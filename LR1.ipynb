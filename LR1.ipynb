{
 "cells": [
  {
   "cell_type": "code",
   "execution_count": 15,
   "metadata": {},
   "outputs": [
    {
     "data": {
      "text/html": [
       "<div>\n",
       "<style scoped>\n",
       "    .dataframe tbody tr th:only-of-type {\n",
       "        vertical-align: middle;\n",
       "    }\n",
       "\n",
       "    .dataframe tbody tr th {\n",
       "        vertical-align: top;\n",
       "    }\n",
       "\n",
       "    .dataframe thead th {\n",
       "        text-align: right;\n",
       "    }\n",
       "</style>\n",
       "<table border=\"1\" class=\"dataframe\">\n",
       "  <thead>\n",
       "    <tr style=\"text-align: right;\">\n",
       "      <th></th>\n",
       "      <th>&lt;TICKER&gt;</th>\n",
       "      <th>&lt;PER&gt;</th>\n",
       "      <th>&lt;DATE&gt;</th>\n",
       "      <th>&lt;TIME&gt;</th>\n",
       "      <th>&lt;OPEN&gt;</th>\n",
       "      <th>&lt;HIGH&gt;</th>\n",
       "      <th>&lt;LOW&gt;</th>\n",
       "      <th>&lt;CLOSE&gt;</th>\n",
       "      <th>&lt;VOL&gt;</th>\n",
       "    </tr>\n",
       "  </thead>\n",
       "  <tbody>\n",
       "    <tr>\n",
       "      <th>0</th>\n",
       "      <td>SPFB.RTS-3.18</td>\n",
       "      <td>5</td>\n",
       "      <td>20171204</td>\n",
       "      <td>100000</td>\n",
       "      <td>111940.0</td>\n",
       "      <td>112500.0</td>\n",
       "      <td>111880.0</td>\n",
       "      <td>112480.0</td>\n",
       "      <td>125</td>\n",
       "    </tr>\n",
       "    <tr>\n",
       "      <th>1</th>\n",
       "      <td>SPFB.RTS-3.18</td>\n",
       "      <td>5</td>\n",
       "      <td>20171204</td>\n",
       "      <td>100500</td>\n",
       "      <td>112500.0</td>\n",
       "      <td>112510.0</td>\n",
       "      <td>112250.0</td>\n",
       "      <td>112500.0</td>\n",
       "      <td>24</td>\n",
       "    </tr>\n",
       "  </tbody>\n",
       "</table>\n",
       "</div>"
      ],
      "text/plain": [
       "        <TICKER>  <PER>    <DATE>  <TIME>    <OPEN>    <HIGH>     <LOW>  \\\n",
       "0  SPFB.RTS-3.18      5  20171204  100000  111940.0  112500.0  111880.0   \n",
       "1  SPFB.RTS-3.18      5  20171204  100500  112500.0  112510.0  112250.0   \n",
       "\n",
       "    <CLOSE>  <VOL>  \n",
       "0  112480.0    125  \n",
       "1  112500.0     24  "
      ]
     },
     "execution_count": 15,
     "metadata": {},
     "output_type": "execute_result"
    }
   ],
   "source": [
    "#КОТИРОВКИ БЕРУ ТУТ https://www.finam.ru/profile/mosbirzha-fyuchersy/spfb-rts-12-18-riz8/export/?market=14&em=468782&code=RIZ8&apply=0&df=12&mf=10&yf=2018&from=12.11.2018&dt=12&mt=10&yt=2018&to=12.11.2018&p=7&f=RIZ8_181112_181112&e=.txt&cn=RIZ8&dtf=1&tmf=1&MSOR=1&mstime=on&mstimever=1&sep=1&sep2=1&datf=1&at=1\n",
    "#RTS-12.18 20.12.2018\n",
    "#162 5мин свеч в день\n",
    "\n",
    "import numpy as np\n",
    "import pandas as pd\n",
    "data = pd.read_csv(r'RIZ8/SPFB.RTS-3.18(5M).csv')\n",
    "data.head(2)\n",
    "#data.shape"
   ]
  },
  {
   "cell_type": "code",
   "execution_count": 19,
   "metadata": {},
   "outputs": [],
   "source": [
    "#data.columns = [ 'ticker','per','date','time','open','high','low','close','vol']#<TICKER>  <PER>    <DATE>  <TIME>    <OPEN>    <HIGH>     <LOW> 'a', 'b', 'c', 'd', 'e']\n",
    "#data.head(2)"
   ]
  },
  {
   "cell_type": "code",
   "execution_count": 17,
   "metadata": {},
   "outputs": [
    {
     "data": {
      "text/plain": [
       "<matplotlib.axes._subplots.AxesSubplot at 0x20c4213dd68>"
      ]
     },
     "execution_count": 17,
     "metadata": {},
     "output_type": "execute_result"
    },
    {
     "data": {
      "image/png": "[encoded data removed]",
      "text/plain": [
       "<Figure size 432x288 with 1 Axes>"
      ]
     },
     "metadata": {},
     "output_type": "display_data"
    }
   ],
   "source": [
    "data['<OPEN>'].plot(legend=True) #построим график"
   ]
  },
  {
   "cell_type": "code",
   "execution_count": 20,
   "metadata": {},
   "outputs": [],
   "source": [
    "stop_val = 300\n",
    "profit_val = 1500\n",
    "open = data['<OPEN>']\n",
    "high = data['<HIGH>']\n",
    "low = data['<LOW>']\n",
    "data['resul']"
   ]
  },
  {
   "cell_type": "code",
   "execution_count": null,
   "metadata": {},
   "outputs": [],
   "source": [
    "for row im open"
   ]
  },
  {
   "cell_type": "code",
   "execution_count": null,
   "metadata": {},
   "outputs": [],
   "source": [
    "ifopen.shift"
   ]
  },
  {
   "cell_type": "code",
   "execution_count": null,
   "metadata": {},
   "outputs": [],
   "source": []
  }
 ],
 "metadata": {
  "kernelspec": {
   "display_name": "Python 3",
   "language": "python",
   "name": "python3"
  },
  "language_info": {
   "codemirror_mode": {
    "name": "ipython",
    "version": 3
   },
   "file_extension": ".py",
   "mimetype": "text/x-python",
   "name": "python",
   "nbconvert_exporter": "python",
   "pygments_lexer": "ipython3",
   "version": "3.6.5"
  }
 },
 "nbformat": 4,
 "nbformat_minor": 2
}
